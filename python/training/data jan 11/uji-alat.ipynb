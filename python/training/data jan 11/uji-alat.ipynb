{
 "cells": [
  {
   "cell_type": "code",
   "execution_count": 1,
   "metadata": {},
   "outputs": [
    {
     "name": "stdout",
     "output_type": "stream",
     "text": [
      "     No.     Nama  Umur  Weight Actual Unnamed: 5 Prediction Unnamed: 7  \\\n",
      "0    NaN      NaN   NaN     NaN    SYS        DIA        SYS        DIA   \n",
      "1    1.0      uki  23.0    75.0    119         75        111         71   \n",
      "2    2.0     rafa  21.0    45.0     93         56        102         67   \n",
      "3    3.0  gilbert  21.0    78.0    111         73        122         81   \n",
      "4    4.0     nur   23.0    60.0    110         71        103         62   \n",
      "..   ...      ...   ...     ...    ...        ...        ...        ...   \n",
      "125  NaN      NaN   NaN     NaN    NaN        NaN        NaN        NaN   \n",
      "126  NaN      NaN   NaN     NaN    NaN        NaN        NaN        NaN   \n",
      "127  NaN      NaN   NaN     NaN    NaN        NaN        NaN        NaN   \n",
      "128  NaN      NaN   NaN     NaN    NaN        NaN        NaN        NaN   \n",
      "129  NaN      NaN   NaN     NaN    NaN        NaN        NaN        NaN   \n",
      "\n",
      "                                                   PPG  Unnamed: 9  ...  \\\n",
      "0                                                  NaN         NaN  ...   \n",
      "1    1883,1931,1975,2046,2111,2171,2260,2335,2389,2...         NaN  ...   \n",
      "2    1730,1734,1765,1805,1813,1819,1818,1761,1777,1...         NaN  ...   \n",
      "3    1971,1977,2054,2142,2209,2257,2295,2274,2291,2...         NaN  ...   \n",
      "4    1781,1803,1808,1815,1811,1762,1776,1791,1790,1...         NaN  ...   \n",
      "..                                                 ...         ...  ...   \n",
      "125                                                NaN         NaN  ...   \n",
      "126                                                NaN         NaN  ...   \n",
      "127                                                NaN         NaN  ...   \n",
      "128                                                NaN         NaN  ...   \n",
      "129                                                NaN         NaN  ...   \n",
      "\n",
      "    Unnamed: 23 Unnamed: 24 Unnamed: 25 Unnamed: 26  Unnamed: 27  Unnamed: 28  \\\n",
      "0           NaN         NaN         NaN         NaN          NaN          NaN   \n",
      "1           NaN         NaN         NaN         NaN          NaN          NaN   \n",
      "2           NaN         NaN         NaN         NaN          NaN          NaN   \n",
      "3           NaN         NaN         NaN         NaN          NaN          NaN   \n",
      "4           NaN         NaN         NaN         NaN          NaN          NaN   \n",
      "..          ...         ...         ...         ...          ...          ...   \n",
      "125         NaN         NaN         NaN         NaN          NaN          NaN   \n",
      "126         NaN         NaN         NaN         NaN          NaN          NaN   \n",
      "127         NaN         NaN         NaN         NaN          NaN          NaN   \n",
      "128         NaN         NaN         NaN         NaN          NaN          NaN   \n",
      "129         NaN         NaN         NaN         NaN          NaN          NaN   \n",
      "\n",
      "     Unnamed: 29  Unnamed: 30  Unnamed: 31  Unnamed: 32  \n",
      "0            NaN          NaN          NaN          NaN  \n",
      "1            NaN          NaN          NaN          NaN  \n",
      "2            NaN          NaN          NaN          NaN  \n",
      "3            NaN          NaN          NaN          NaN  \n",
      "4            NaN          NaN          NaN          NaN  \n",
      "..           ...          ...          ...          ...  \n",
      "125          NaN          NaN          NaN          NaN  \n",
      "126          NaN          NaN          NaN          NaN  \n",
      "127          NaN          NaN          NaN          NaN  \n",
      "128          NaN          NaN          NaN          NaN  \n",
      "129          NaN          NaN          NaN          NaN  \n",
      "\n",
      "[130 rows x 33 columns]\n"
     ]
    }
   ],
   "source": [
    "import pandas as pd\n",
    "\n",
    "data = pd.read_csv('data penelitian 4 uji alat (csv).csv')\n",
    "print(data)"
   ]
  }
 ],
 "metadata": {
  "kernelspec": {
   "display_name": "Python 3",
   "language": "python",
   "name": "python3"
  },
  "language_info": {
   "codemirror_mode": {
    "name": "ipython",
    "version": 3
   },
   "file_extension": ".py",
   "mimetype": "text/x-python",
   "name": "python",
   "nbconvert_exporter": "python",
   "pygments_lexer": "ipython3",
   "version": "3.10.7"
  }
 },
 "nbformat": 4,
 "nbformat_minor": 2
}
