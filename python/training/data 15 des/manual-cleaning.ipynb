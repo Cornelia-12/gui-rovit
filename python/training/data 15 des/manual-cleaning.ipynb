{
 "cells": [
  {
   "cell_type": "code",
   "execution_count": 6,
   "metadata": {},
   "outputs": [],
   "source": [
    "import pandas as pd\n",
    "import numpy as np\n",
    "import heartpy as hp\n",
    "import matplotlib.pyplot as plt\n",
    "\n",
    "# read data from file\n",
    "data = pd.read_csv('data-raw.csv')"
   ]
  },
  {
   "cell_type": "code",
   "execution_count": null,
   "metadata": {},
   "outputs": [],
   "source": [
    "for i, ppg in enumerate(data['ppg']): \n",
    "  try:\n",
    "    ppg = list(map(int, ppg.split(',')))\n",
    "    plt.figure(figsize=(20,5))\n",
    "    plt.plot(ppg)\n",
    "    plt.title(i)\n",
    "    plt.show()\n",
    "  except Exception as e:\n",
    "    print(f\"Error: {i}; ppg: {data['ppg'][i]}\")"
   ]
  },
  {
   "cell_type": "code",
   "execution_count": 8,
   "metadata": {},
   "outputs": [],
   "source": [
    "bad_ppg_index = [1,2,6,7,8,11,18,22,24,25,26,38,42,43,44,46,47,64,65,66,73,74,75,76,77,78,79,80,81,82,83,87,93,94,97,98,99,104,107,116,117,120,122,123,129,130,136,137,139,140,141,142,143,144,145,146,147,148,149,150,151,152,153,154,155,156,157,158,159,160,161,162,163,164,165,166,178,186,187,190,193,200,208,209,210,211,242,243,244,245,246,247,248,249,250,251,252,253,254,255,256,257,258,259,260,261,262,263,264,265,266]\n",
    "data_no_bad_ppg = data.drop(bad_ppg_index)\n",
    "data_no_bad_ppg_and_no_null = data_no_bad_ppg.dropna(subset=[\"age\",\"weight\",\"ppg\"])\n",
    "\n",
    "data_no_bad_ppg_and_no_null.to_csv('data-clean.csv', index=False)"
   ]
  }
 ],
 "metadata": {
  "kernelspec": {
   "display_name": "Python 3",
   "language": "python",
   "name": "python3"
  },
  "language_info": {
   "codemirror_mode": {
    "name": "ipython",
    "version": 3
   },
   "file_extension": ".py",
   "mimetype": "text/x-python",
   "name": "python",
   "nbconvert_exporter": "python",
   "pygments_lexer": "ipython3",
   "version": "3.10.7"
  }
 },
 "nbformat": 4,
 "nbformat_minor": 2
}
